{
 "cells": [
  {
   "cell_type": "code",
   "execution_count": 1,
   "metadata": {},
   "outputs": [],
   "source": [
    "from openpyxl import load_workbook\n",
    "from openpyxl.styles import Font\n",
    "import openpyxl\n",
    "from copy import copy\n",
    "import os\n",
    "import glob"
   ]
  },
  {
   "cell_type": "code",
   "execution_count": 2,
   "metadata": {},
   "outputs": [],
   "source": [
    "wb = load_workbook(\"basic_sample.xlsx\",\n",
    "#                    read_only=False,\n",
    "#                    keep_vba=True,\n",
    "#                    data_only=False,\n",
    "#                    keep_links=False\n",
    "                  )"
   ]
  },
  {
   "cell_type": "code",
   "execution_count": 3,
   "metadata": {},
   "outputs": [
    {
     "data": {
      "text/plain": [
       "'Kaustubh'"
      ]
     },
     "execution_count": 3,
     "metadata": {},
     "output_type": "execute_result"
    }
   ],
   "source": [
    "wb.active['A1'].value"
   ]
  },
  {
   "cell_type": "code",
   "execution_count": 4,
   "metadata": {},
   "outputs": [
    {
     "data": {
      "text/plain": [
       "'Kaustubh'"
      ]
     },
     "execution_count": 4,
     "metadata": {},
     "output_type": "execute_result"
    }
   ],
   "source": [
    "wb['Sheet1']['A1'].value"
   ]
  },
  {
   "cell_type": "code",
   "execution_count": 5,
   "metadata": {},
   "outputs": [],
   "source": [
    "wb['Sheet1']['A1'] = \"Funky\""
   ]
  },
  {
   "cell_type": "code",
   "execution_count": 6,
   "metadata": {},
   "outputs": [
    {
     "data": {
      "text/plain": [
       "<Worksheet \"aggregated\">"
      ]
     },
     "execution_count": 6,
     "metadata": {},
     "output_type": "execute_result"
    }
   ],
   "source": [
    "wb.create_sheet(\"aggregated\")"
   ]
  },
  {
   "cell_type": "code",
   "execution_count": 7,
   "metadata": {},
   "outputs": [
    {
     "data": {
      "text/plain": [
       "['Sheet1', 'aggregated']"
      ]
     },
     "execution_count": 7,
     "metadata": {},
     "output_type": "execute_result"
    }
   ],
   "source": [
    "wb.sheetnames"
   ]
  },
  {
   "cell_type": "code",
   "execution_count": 8,
   "metadata": {},
   "outputs": [
    {
     "name": "stdout",
     "output_type": "stream",
     "text": [
      "Funky 35 67 78 98 College1 \n",
      "\n",
      "Saumya 54 89 90 88 College3 \n",
      "\n",
      "Abhishek 78 43 54 76 College2 \n",
      "\n",
      "Ayushi 76 5 65 34 College1 \n",
      "\n",
      "Saksham 23 65 87 43 College3 \n",
      "\n",
      "Praful 65 90 45 90 College2 \n",
      "\n",
      "Ninad 65 45 100 78 College3 \n",
      "\n",
      "Santhosh 76 54 23 98 College1 \n",
      "\n",
      "Sirjan 90 56 90 56 College2 \n",
      "\n"
     ]
    }
   ],
   "source": [
    "for row in range(1, 10):\n",
    "    for col in range(0, 6):\n",
    "        char = chr(col+65)\n",
    "        print(wb['Sheet1'][char + str(row)].value, end=' ')\n",
    "    print('\\n')"
   ]
  },
  {
   "cell_type": "code",
   "execution_count": 9,
   "metadata": {},
   "outputs": [
    {
     "name": "stdout",
     "output_type": "stream",
     "text": [
      "Funky 35 67 78 98 College1 \n",
      "\n",
      "Saumya 54 89 90 88 College3 \n",
      "\n",
      "Abhishek 78 43 54 76 College2 \n",
      "\n",
      "Ayushi 76 5 65 34 College1 \n",
      "\n",
      "Saksham 23 65 87 43 College3 \n",
      "\n",
      "Praful 65 90 45 90 College2 \n",
      "\n",
      "Ninad 65 45 100 78 College3 \n",
      "\n",
      "Santhosh 76 54 23 98 College1 \n",
      "\n",
      "Sirjan 90 56 90 56 College2 \n",
      "\n"
     ]
    }
   ],
   "source": [
    "for row in wb['Sheet1']['A1':'F9']:\n",
    "    for cell in row:\n",
    "        print(cell.value, end=' ')\n",
    "    print('\\n')"
   ]
  },
  {
   "cell_type": "code",
   "execution_count": 10,
   "metadata": {},
   "outputs": [
    {
     "name": "stdout",
     "output_type": "stream",
     "text": [
      "Funky 35 67 78 98 College1 \n",
      "\n",
      "Saumya 54 89 90 88 College3 \n",
      "\n",
      "Abhishek 78 43 54 76 College2 \n",
      "\n",
      "Ayushi 76 5 65 34 College1 \n",
      "\n",
      "Saksham 23 65 87 43 College3 \n",
      "\n",
      "Praful 65 90 45 90 College2 \n",
      "\n",
      "Ninad 65 45 100 78 College3 \n",
      "\n",
      "Santhosh 76 54 23 98 College1 \n",
      "\n",
      "Sirjan 90 56 90 56 College2 \n",
      "\n"
     ]
    }
   ],
   "source": [
    "for row in wb['Sheet1'].iter_rows(min_row=1, max_col=6, max_row=9):\n",
    "    for cell in row:\n",
    "        print(cell.value, end=' ')\n",
    "    print('\\n')"
   ]
  },
  {
   "cell_type": "code",
   "execution_count": 11,
   "metadata": {},
   "outputs": [
    {
     "name": "stdout",
     "output_type": "stream",
     "text": [
      "Funky 35 67 78 98 test_College1 \n",
      "\n",
      "Saumya 54 89 90 88 test_College3 \n",
      "\n",
      "Abhishek 78 43 54 76 test_College2 \n",
      "\n",
      "Ayushi 76 5 65 34 test_College1 \n",
      "\n",
      "Saksham 23 65 87 43 test_College3 \n",
      "\n",
      "Praful 65 90 45 90 test_College2 \n",
      "\n",
      "Ninad 65 45 100 78 test_College3 \n",
      "\n",
      "Santhosh 76 54 23 98 test_College1 \n",
      "\n",
      "Sirjan 90 56 90 56 test_College2 \n",
      "\n"
     ]
    }
   ],
   "source": [
    "for row in wb['Sheet1']['A1':'F9']:\n",
    "    for cell in row:\n",
    "        if 'College' in str(cell.value):\n",
    "            cell.value = 'test_' + cell.value\n",
    "        print(cell.value, end=' ')\n",
    "    print('\\n')"
   ]
  },
  {
   "cell_type": "code",
   "execution_count": 12,
   "metadata": {},
   "outputs": [],
   "source": [
    "wb['Sheet1'].insert_rows(0,2)"
   ]
  },
  {
   "cell_type": "code",
   "execution_count": 13,
   "metadata": {},
   "outputs": [],
   "source": [
    "wb['Sheet1'].insert_cols(6,1)"
   ]
  },
  {
   "cell_type": "code",
   "execution_count": 14,
   "metadata": {},
   "outputs": [],
   "source": [
    "headers = [\n",
    "    'Name',\n",
    "    'Mathematics',\n",
    "    'Computer Organization',\n",
    "    'Data Structures and Algorithms',\n",
    "    'Web Development',\n",
    "    'Score %',\n",
    "    'College'\n",
    "]\n",
    "for row in wb['Sheet1']['A2':'G2']:\n",
    "    idx = 0\n",
    "    for cell in row:\n",
    "        cell.value = headers[idx]\n",
    "        idx += 1"
   ]
  },
  {
   "cell_type": "code",
   "execution_count": 15,
   "metadata": {},
   "outputs": [],
   "source": [
    "for row in wb['Sheet1']['B3':'F11']:\n",
    "    score = 0\n",
    "    for cell in row[:4]:\n",
    "        score += int(cell.value)\n",
    "    row[4].value = round((score/400)*100, 2)"
   ]
  },
  {
   "cell_type": "code",
   "execution_count": 16,
   "metadata": {},
   "outputs": [
    {
     "name": "stdout",
     "output_type": "stream",
     "text": [
      "=AVERAGE(B3:E3)\n",
      "=AVERAGE(B4:E4)\n",
      "=AVERAGE(B5:E5)\n",
      "=AVERAGE(B6:E6)\n",
      "=AVERAGE(B7:E7)\n",
      "=AVERAGE(B8:E8)\n",
      "=AVERAGE(B9:E9)\n",
      "=AVERAGE(B10:E10)\n",
      "=AVERAGE(B11:E11)\n"
     ]
    }
   ],
   "source": [
    "for row in wb['Sheet1']['B3':'H11']:\n",
    "    print(f'=AVERAGE({row[0].coordinate}:{row[3].coordinate})' )\n",
    "    row[6].value = f'=AVERAGE({row[0].coordinate}:{row[3].coordinate})' "
   ]
  },
  {
   "cell_type": "code",
   "execution_count": 17,
   "metadata": {},
   "outputs": [],
   "source": [
    "wb['Sheet1'].merge_cells('B1:E1')"
   ]
  },
  {
   "cell_type": "code",
   "execution_count": 18,
   "metadata": {},
   "outputs": [],
   "source": [
    "wb['Sheet1']['B1'].value = 'Subjects'"
   ]
  },
  {
   "cell_type": "code",
   "execution_count": 19,
   "metadata": {},
   "outputs": [],
   "source": [
    "from openpyxl.worksheet.filters import (\n",
    "    FilterColumn,\n",
    "    CustomFilter,\n",
    "    CustomFilters,\n",
    "    DateGroupItem,\n",
    "    Filters,\n",
    "    )"
   ]
  },
  {
   "cell_type": "code",
   "execution_count": 20,
   "metadata": {},
   "outputs": [],
   "source": [
    "filters = wb['Sheet1'].auto_filter\n",
    "filters.ref = \"A2:G11\"\n",
    "col = FilterColumn(colId=6) # for column A\n",
    "col.filters = Filters(filter=[\"test_College2\"]) # add selected values\n",
    "filters.filterColumn.append(col) # add filter to the worksheet"
   ]
  },
  {
   "cell_type": "code",
   "execution_count": 21,
   "metadata": {},
   "outputs": [],
   "source": [
    "from openpyxl.chart import BarChart, Series, Reference"
   ]
  },
  {
   "cell_type": "code",
   "execution_count": 22,
   "metadata": {},
   "outputs": [],
   "source": [
    "chart1 = BarChart()\n",
    "chart1.type = \"col\"\n",
    "chart1.style = 10\n",
    "chart1.title = \"Bar Chart\"\n",
    "chart1.y_axis.title = 'Marks'\n",
    "chart1.x_axis.title = 'Names'\n",
    "\n",
    "data = Reference(wb['Sheet1'], min_col=2, min_row=2, max_row=11, max_col=5)\n",
    "cats = Reference(wb['Sheet1'], min_col=1, min_row=3, max_row=11)\n",
    "chart1.add_data(data, titles_from_data=True)\n",
    "chart1.set_categories(cats)\n",
    "chart1.shape = 4\n",
    "\n",
    "wb['Sheet1'].add_chart(chart1, \"B13\")"
   ]
  },
  {
   "cell_type": "code",
   "execution_count": 23,
   "metadata": {},
   "outputs": [],
   "source": [
    "from openpyxl.drawing.image import Image"
   ]
  },
  {
   "cell_type": "code",
   "execution_count": 24,
   "metadata": {},
   "outputs": [],
   "source": [
    "excel_logo = Image('Demo_Picture.png')\n",
    "excel_logo.anchor = 'J4'\n",
    "excel_logo.width = 130\n",
    "excel_logo.height = 150\n",
    "wb['Sheet1'].add_image(excel_logo)"
   ]
  },
  {
   "cell_type": "code",
   "execution_count": 25,
   "metadata": {},
   "outputs": [],
   "source": [
    "from openpyxl.styles import Border, Alignment, Font, Side\n",
    "\n",
    "font_bold = Font(bold=True)\n",
    "font_red = Font(color='ffff2e2e')\n",
    "font_green = Font(color='ff00ff00')\n",
    "\n",
    "border = Border(left=Side(border_style=\"thin\", color='FF000000'),\n",
    "                right=Side(border_style=\"thin\", color='FF000000'),\n",
    "                top=Side(border_style=\"thin\", color='FF000000'),\n",
    "                bottom=Side(border_style=\"thin\", color='FF000000'))\n",
    "\n",
    "alignment = Alignment(horizontal='center')\n",
    "\n",
    "wb['Sheet1']['B1'].alignment = alignment\n",
    "wb['Sheet1']['B1'].font = font_bold\n",
    "\n",
    "for row in wb['Sheet1']['A2':'G2']:\n",
    "    for cell in row:\n",
    "        cell.font = font_bold\n",
    "\n",
    "for row in wb['Sheet1']['F3':'F11']:\n",
    "    for cell in row:\n",
    "        cell.border = border\n",
    "\n",
    "for row in wb['Sheet1']['B3':'F11']:\n",
    "    for cell in row[:4]:\n",
    "        if int(cell.value) > 30:\n",
    "            cell.font = font_green\n",
    "        else:\n",
    "            cell.font = font_red"
   ]
  },
  {
   "cell_type": "code",
   "execution_count": 26,
   "metadata": {},
   "outputs": [],
   "source": [
    "from openpyxl.comments import Comment"
   ]
  },
  {
   "cell_type": "code",
   "execution_count": 27,
   "metadata": {},
   "outputs": [],
   "source": [
    "comment = Comment(\"Need to review\", \"auto grader\")\n",
    "for row in wb['Sheet1']['B3':'F11']:\n",
    "    for cell in row[:4]:\n",
    "        if int(cell.value) < 30:\n",
    "            cell.comment = comment"
   ]
  },
  {
   "cell_type": "code",
   "execution_count": 28,
   "metadata": {},
   "outputs": [],
   "source": [
    "wb.save(\"new_basic.xlsx\")"
   ]
  },
  {
   "cell_type": "code",
   "execution_count": null,
   "metadata": {},
   "outputs": [],
   "source": []
  }
 ],
 "metadata": {
  "kernelspec": {
   "display_name": "Python 3",
   "language": "python",
   "name": "python3"
  },
  "language_info": {
   "codemirror_mode": {
    "name": "ipython",
    "version": 3
   },
   "file_extension": ".py",
   "mimetype": "text/x-python",
   "name": "python",
   "nbconvert_exporter": "python",
   "pygments_lexer": "ipython3",
   "version": "3.6.8"
  }
 },
 "nbformat": 4,
 "nbformat_minor": 2
}
